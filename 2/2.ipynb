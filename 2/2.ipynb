{
 "cells": [
  {
   "cell_type": "code",
   "execution_count": 1,
   "id": "cbcb27c5-f60e-46c4-bffc-403f6d46346d",
   "metadata": {},
   "outputs": [],
   "source": [
    "import csv\n",
    "import numpy as np"
   ]
  },
  {
   "cell_type": "code",
   "execution_count": 2,
   "id": "dbed7557-46f8-4396-be64-f043cc29dac8",
   "metadata": {},
   "outputs": [],
   "source": [
    "def read_data(filename) -> np.array:\n",
    "    data = []\n",
    "    with open(filename, 'r') as file:\n",
    "        csv_reader = csv.reader(file)\n",
    "        for row in csv_reader:\n",
    "            float_row = [float(value) for value in row]\n",
    "            data.append(float_row)\n",
    "    return np.array(data)"
   ]
  },
  {
   "cell_type": "code",
   "execution_count": 3,
   "id": "5e8b0780-33a7-4d5b-b5ad-f4612b5395e5",
   "metadata": {},
   "outputs": [],
   "source": [
    "data = read_data(\"data.csv\")"
   ]
  },
  {
   "cell_type": "code",
   "execution_count": 4,
   "id": "f4a9d429-0766-4764-9aa0-caffb63b9ace",
   "metadata": {},
   "outputs": [
    {
     "data": {
      "text/plain": [
       "array([[0.749648  , 0.12819048, 0.5076381 , 0.05633512],\n",
       "       [0.4482618 , 0.47509401, 0.4806783 , 0.46893454],\n",
       "       [0.28352025, 0.19877752, 0.26540263, 0.21699514],\n",
       "       [0.44636991, 0.45871148, 0.28401327, 0.54549307],\n",
       "       [0.31940479, 0.42255275, 0.2595175 , 0.4024669 ]])"
      ]
     },
     "execution_count": 4,
     "metadata": {},
     "output_type": "execute_result"
    }
   ],
   "source": [
    "data[:5]"
   ]
  },
  {
   "cell_type": "code",
   "execution_count": 5,
   "id": "62be8e23-2d2a-4b95-b022-9c7adc99fa4c",
   "metadata": {},
   "outputs": [],
   "source": [
    "previous_videos = data[:, 0:2]\n",
    "next_videos = data[:, 2:4]"
   ]
  },
  {
   "cell_type": "code",
   "execution_count": 6,
   "id": "8d7ea35b-a155-4105-862e-857e3f8ae0bd",
   "metadata": {},
   "outputs": [
    {
     "data": {
      "text/plain": [
       "(array([[0.749648  , 0.12819048],\n",
       "        [0.4482618 , 0.47509401],\n",
       "        [0.28352025, 0.19877752],\n",
       "        [0.44636991, 0.45871148],\n",
       "        [0.31940479, 0.42255275]]),\n",
       " array([[0.5076381 , 0.05633512],\n",
       "        [0.4806783 , 0.46893454],\n",
       "        [0.26540263, 0.21699514],\n",
       "        [0.28401327, 0.54549307],\n",
       "        [0.2595175 , 0.4024669 ]]))"
      ]
     },
     "execution_count": 6,
     "metadata": {},
     "output_type": "execute_result"
    }
   ],
   "source": [
    "previous_videos[:5], next_videos[:5]"
   ]
  },
  {
   "cell_type": "code",
   "execution_count": 7,
   "id": "d1d5cd54-ac6e-4886-882c-16250c854dd2",
   "metadata": {},
   "outputs": [],
   "source": [
    "def create_transformation_matrix(p_videos, n_videos):\n",
    "    \"\"\"\n",
    "    Calculate the transformation matrix from the generated data points\n",
    "    using least squares regression.\n",
    "    \n",
    "    Parameters:\n",
    "    p_videos : numpy.ndarray\n",
    "        Array of shape (n_points, 2) containing current video metrics\n",
    "    n_videos : numpy.ndarray\n",
    "        Array of shape (n_points, 2) containing next video metrics\n",
    "        \n",
    "    Returns:\n",
    "    numpy.ndarray : Calculated transformation matrix\n",
    "    \"\"\"\n",
    "    # Solve for the transformation matrix using least squares regression\n",
    "    X, Y = p_videos, n_videos\n",
    "    \n",
    "    XtX = X.T @ X\n",
    "    XtY = X.T @ Y\n",
    "    \n",
    "    return np.linalg.inv(XtX) @ XtY"
   ]
  },
  {
   "cell_type": "code",
   "execution_count": 8,
   "id": "86d97a4d-1bfb-4a1b-b44f-1c9c9fb3b4d1",
   "metadata": {},
   "outputs": [],
   "source": [
    "tm = create_transformation_matrix(previous_videos, next_videos)"
   ]
  },
  {
   "cell_type": "code",
   "execution_count": 9,
   "id": "6ca02c06-e0e2-41e0-8ce7-c1d6149e3273",
   "metadata": {},
   "outputs": [
    {
     "name": "stdout",
     "output_type": "stream",
     "text": [
      "[[0.70500624 0.19902547]\n",
      " [0.09087316 0.89926622]]\n"
     ]
    }
   ],
   "source": [
    "print(tm)"
   ]
  },
  {
   "cell_type": "code",
   "execution_count": 10,
   "id": "6067f0d5-4666-45ee-a04d-b058a083d33a",
   "metadata": {},
   "outputs": [],
   "source": [
    "def predict(A, x0, k):\n",
    "    eigenvalues, eigenvectors = np.linalg.eig(A)\n",
    "    return eigenvectors @ np.diag(eigenvalues ** k) @ np.linalg.inv(eigenvectors) @ x0"
   ]
  },
  {
   "cell_type": "code",
   "execution_count": 11,
   "id": "b382fbeb-529e-4083-af99-63efa9574ce6",
   "metadata": {},
   "outputs": [],
   "source": [
    "creators = read_data(\"creators.csv\")"
   ]
  },
  {
   "cell_type": "code",
   "execution_count": 12,
   "id": "f3aa60c7-beda-4cf9-8789-aa7f1e5d5d02",
   "metadata": {},
   "outputs": [
    {
     "data": {
      "text/plain": [
       "array([[0.81030159, 0.03150058],\n",
       "       [0.86074837, 0.14886164],\n",
       "       [1.02041179, 0.27279776],\n",
       "       [0.7283803 , 0.10593427],\n",
       "       [0.75933921, 0.14846288],\n",
       "       [0.7395112 , 0.37027072],\n",
       "       [0.92225941, 0.47581368],\n",
       "       [1.07497934, 0.27082828],\n",
       "       [0.63578949, 0.2707897 ],\n",
       "       [0.87478257, 0.18797036]])"
      ]
     },
     "execution_count": 12,
     "metadata": {},
     "output_type": "execute_result"
    }
   ],
   "source": [
    "creators[:10]"
   ]
  },
  {
   "cell_type": "code",
   "execution_count": 13,
   "id": "ffae0ad4-57f8-4061-9825-599d173fc215",
   "metadata": {},
   "outputs": [],
   "source": [
    "weeks = 4"
   ]
  },
  {
   "cell_type": "code",
   "execution_count": 14,
   "id": "f5b0ed42-5b67-41b1-85ec-cd77c1640d70",
   "metadata": {},
   "outputs": [],
   "source": [
    "final_state = np.array(list(map(lambda x: predict(tm, x, weeks), creators)))"
   ]
  },
  {
   "cell_type": "code",
   "execution_count": 15,
   "id": "2bc2cb91-5177-4d32-a14d-017565fbce93",
   "metadata": {},
   "outputs": [
    {
     "data": {
      "text/plain": [
       "np.int64(6)"
      ]
     },
     "execution_count": 15,
     "metadata": {},
     "output_type": "execute_result"
    }
   ],
   "source": [
    "np.argmax(final_state[:, 0])"
   ]
  },
  {
   "cell_type": "code",
   "execution_count": 16,
   "id": "18e2349e-261e-4b21-884e-34d89285f332",
   "metadata": {},
   "outputs": [
    {
     "data": {
      "text/plain": [
       "np.int64(26)"
      ]
     },
     "execution_count": 16,
     "metadata": {},
     "output_type": "execute_result"
    }
   ],
   "source": [
    "np.argmax(final_state[:, 1])"
   ]
  },
  {
   "cell_type": "code",
   "execution_count": 17,
   "id": "cb00f317-bee5-4d7f-8f38-05328ccc54c6",
   "metadata": {},
   "outputs": [
    {
     "name": "stdout",
     "output_type": "stream",
     "text": [
      "5 [0.7395112  0.37027072] [0.38929419 0.41499934]\n",
      "6 [0.92225941 0.47581368] [0.49151281 0.52780568]\n",
      "8 [0.63578949 0.2707897 ] [0.3143209  0.32207848]\n",
      "14 [0.65759568 0.33829511] [0.35004501 0.37562937]\n"
     ]
    }
   ],
   "source": [
    "for i, (oc, nc) in enumerate(zip(creators, final_state)):\n",
    "    if np.argmin(oc) != np.argmin(nc):\n",
    "        print(i, oc, nc)"
   ]
  }
 ],
 "metadata": {
  "kernelspec": {
   "display_name": "Python 3 (ipykernel)",
   "language": "python",
   "name": "python3"
  },
  "language_info": {
   "codemirror_mode": {
    "name": "ipython",
    "version": 3
   },
   "file_extension": ".py",
   "mimetype": "text/x-python",
   "name": "python",
   "nbconvert_exporter": "python",
   "pygments_lexer": "ipython3",
   "version": "3.12.3"
  }
 },
 "nbformat": 4,
 "nbformat_minor": 5
}
